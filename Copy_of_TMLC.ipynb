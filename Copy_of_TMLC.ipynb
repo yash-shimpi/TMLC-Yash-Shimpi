{
  "cells": [
    {
      "cell_type": "code",
      "execution_count": 1,
      "metadata": {
        "id": "prXkOzCc-b4q"
      },
      "outputs": [],
      "source": [
        "!pip install -q kaggle"
      ]
    },
    {
      "cell_type": "code",
      "execution_count": 2,
      "metadata": {
        "id": "4UH3eG_n-cxI"
      },
      "outputs": [],
      "source": [
        "from google.colab import files"
      ]
    },
    {
      "cell_type": "code",
      "execution_count": null,
      "metadata": {
        "id": "wyNKJTsa-uxQ"
      },
      "outputs": [],
      "source": [
        "files.upload()\n"
      ]
    },
    {
      "cell_type": "code",
      "execution_count": 4,
      "metadata": {
        "id": "c0qXmrUP-ym-"
      },
      "outputs": [],
      "source": [
        "! mkdir ~/.kaggle"
      ]
    },
    {
      "cell_type": "code",
      "execution_count": 5,
      "metadata": {
        "id": "WSS-hCWE-528"
      },
      "outputs": [],
      "source": [
        "! cp kaggle.json ~/.kaggle/"
      ]
    },
    {
      "cell_type": "code",
      "execution_count": 6,
      "metadata": {
        "id": "0CbDxBUV-9FO"
      },
      "outputs": [],
      "source": [
        "! chmod 600 ~/.kaggle/kaggle.json"
      ]
    },
    {
      "cell_type": "code",
      "execution_count": 7,
      "metadata": {
        "colab": {
          "base_uri": "https://localhost:8080/"
        },
        "id": "vFegAE7G_Bo4",
        "outputId": "0f363163-d15b-402b-b047-d0ec7d40f8af"
      },
      "outputs": [
        {
          "output_type": "stream",
          "name": "stdout",
          "text": [
            "Downloading barkvn50.zip to /content\n",
            " 88% 154M/176M [00:00<00:00, 303MB/s]\n",
            "100% 176M/176M [00:00<00:00, 298MB/s]\n"
          ]
        }
      ],
      "source": [
        "!kaggle datasets download -d saurabhshahane/barkvn50"
      ]
    },
    {
      "cell_type": "code",
      "execution_count": 8,
      "metadata": {
        "id": "OLg3z2Rg_T-w"
      },
      "outputs": [],
      "source": [
        "! mkdir train"
      ]
    },
    {
      "cell_type": "code",
      "execution_count": null,
      "metadata": {
        "id": "a8f92okw_fXk"
      },
      "outputs": [],
      "source": [
        "! unzip barkvn50.zip -d train"
      ]
    },
    {
      "cell_type": "code",
      "execution_count": 10,
      "metadata": {
        "id": "vJjcJwCr_oJu"
      },
      "outputs": [],
      "source": [
        "# import statements\n",
        "import tensorflow as tf\n",
        "from tensorflow.keras.layers import Conv2D, MaxPooling2D, Flatten, Dense, Dropout\n",
        "from tensorflow.keras.models import Sequential\n",
        "from tensorflow.keras.callbacks import EarlyStopping, ModelCheckpoint\n",
        "from keras.preprocessing.image import ImageDataGenerator\n",
        "import numpy as np"
      ]
    },
    {
      "cell_type": "code",
      "execution_count": 11,
      "metadata": {
        "id": "kojPrBPG_u6v"
      },
      "outputs": [],
      "source": [
        "#Data preprocessing and augmentation\n",
        "train_datagen = ImageDataGenerator(\n",
        "        rescale=1./255,\n",
        "        shear_range=0.2,\n",
        "        zoom_range=0.2,\n",
        "        width_shift_range=0.05,\n",
        "        height_shift_range=0.05,\n",
        "        fill_mode=\"nearest\",\n",
        "        validation_split=0.1,\n",
        "        horizontal_flip=True)\n",
        "\n",
        "src_path='/content/train/BarkVN-50/BarkVN-50_mendeley'"
      ]
    },
    {
      "cell_type": "code",
      "execution_count": 12,
      "metadata": {
        "colab": {
          "base_uri": "https://localhost:8080/"
        },
        "id": "d_dwP4-y_3sf",
        "outputId": "9563eee9-d865-4ca5-cfce-1478205b192f"
      },
      "outputs": [
        {
          "output_type": "stream",
          "name": "stdout",
          "text": [
            "Found 5039 images belonging to 50 classes.\n",
            "Found 539 images belonging to 50 classes.\n"
          ]
        }
      ],
      "source": [
        "#defining datasets\n",
        "batch_size = 64\n",
        "train_generator = train_datagen.flow_from_directory(\n",
        "    directory=src_path,\n",
        "    target_size=(303, 404),\n",
        "    color_mode=\"rgb\",\n",
        "    batch_size=batch_size,\n",
        "    class_mode=\"categorical\",\n",
        "    subset='training',\n",
        "    shuffle=True,\n",
        "    seed=42\n",
        ")\n",
        "valid_generator = train_datagen.flow_from_directory(\n",
        "    directory=src_path,\n",
        "    target_size=(303, 404),\n",
        "    color_mode=\"rgb\",\n",
        "    batch_size=batch_size,\n",
        "    class_mode=\"categorical\",\n",
        "    subset='validation',\n",
        "    shuffle=True,\n",
        "    seed=42\n",
        ")"
      ]
    },
    {
      "cell_type": "code",
      "execution_count": 13,
      "metadata": {
        "colab": {
          "base_uri": "https://localhost:8080/"
        },
        "id": "MCEgcP_2Zw7j",
        "outputId": "fcfe7387-a0a7-425c-cb12-3a617988c71c"
      },
      "outputs": [
        {
          "output_type": "stream",
          "name": "stdout",
          "text": [
            "Model: \"sequential\"\n",
            "_________________________________________________________________\n",
            " Layer (type)                Output Shape              Param #   \n",
            "=================================================================\n",
            " conv2d (Conv2D)             (None, 301, 402, 16)      448       \n",
            "                                                                 \n",
            " max_pooling2d (MaxPooling2D  (None, 150, 201, 16)     0         \n",
            " )                                                               \n",
            "                                                                 \n",
            " conv2d_1 (Conv2D)           (None, 148, 199, 32)      4640      \n",
            "                                                                 \n",
            " max_pooling2d_1 (MaxPooling  (None, 74, 99, 32)       0         \n",
            " 2D)                                                             \n",
            "                                                                 \n",
            " conv2d_2 (Conv2D)           (None, 72, 97, 64)        18496     \n",
            "                                                                 \n",
            " conv2d_3 (Conv2D)           (None, 70, 95, 64)        36928     \n",
            "                                                                 \n",
            " max_pooling2d_2 (MaxPooling  (None, 35, 47, 64)       0         \n",
            " 2D)                                                             \n",
            "                                                                 \n",
            " dropout (Dropout)           (None, 35, 47, 64)        0         \n",
            "                                                                 \n",
            " conv2d_4 (Conv2D)           (None, 33, 45, 128)       73856     \n",
            "                                                                 \n",
            " conv2d_5 (Conv2D)           (None, 31, 43, 128)       147584    \n",
            "                                                                 \n",
            " max_pooling2d_3 (MaxPooling  (None, 15, 21, 128)      0         \n",
            " 2D)                                                             \n",
            "                                                                 \n",
            " dropout_1 (Dropout)         (None, 15, 21, 128)       0         \n",
            "                                                                 \n",
            " conv2d_6 (Conv2D)           (None, 13, 19, 256)       295168    \n",
            "                                                                 \n",
            " conv2d_7 (Conv2D)           (None, 11, 17, 256)       590080    \n",
            "                                                                 \n",
            " conv2d_8 (Conv2D)           (None, 9, 15, 256)        590080    \n",
            "                                                                 \n",
            " max_pooling2d_4 (MaxPooling  (None, 4, 7, 256)        0         \n",
            " 2D)                                                             \n",
            "                                                                 \n",
            " flatten (Flatten)           (None, 7168)              0         \n",
            "                                                                 \n",
            " dense (Dense)               (None, 512)               3670528   \n",
            "                                                                 \n",
            " dense_1 (Dense)             (None, 512)               262656    \n",
            "                                                                 \n",
            " dense_2 (Dense)             (None, 50)                25650     \n",
            "                                                                 \n",
            "=================================================================\n",
            "Total params: 5,716,114\n",
            "Trainable params: 5,716,114\n",
            "Non-trainable params: 0\n",
            "_________________________________________________________________\n"
          ]
        }
      ],
      "source": [
        "#CNN Model\n",
        "model = Sequential([\n",
        "    Conv2D(16, (3, 3), activation='relu', input_shape=[303, 404, 3]), \n",
        "    MaxPooling2D(2, 2),\n",
        "    Conv2D(32, (3, 3), activation='relu'), MaxPooling2D(2, 2),\n",
        "    Conv2D(64, (3, 3), activation='relu'),\n",
        "    Conv2D(64, (3, 3), activation='relu'),\n",
        "    MaxPooling2D(2, 2),\n",
        "    Dropout(0.25),\n",
        "    Conv2D(128, (3, 3), activation='relu'),\n",
        "    Conv2D(128, (3, 3), activation='relu'),\n",
        "    MaxPooling2D(2, 2),\n",
        "    Dropout(0.2),\n",
        "    Conv2D(256, (3, 3), activation='relu'),\n",
        "    Conv2D(256, (3, 3), activation='relu'),\n",
        "    Conv2D(256, (3, 3), activation='relu'),\n",
        "    MaxPooling2D(2, 2),\n",
        "    Flatten(),\n",
        "    Dense(512, activation='relu'),\n",
        "    Dense(512, activation='relu'),\n",
        "    Dense(50, activation='softmax')\n",
        "])\n",
        "model.summary()"
      ]
    },
    {
      "cell_type": "code",
      "execution_count": null,
      "metadata": {
        "colab": {
          "background_save": true,
          "base_uri": "https://localhost:8080/"
        },
        "id": "Ffz7tqnZbF2e",
        "outputId": "55816009-bf04-4b5b-a269-b7bb0da2f405"
      },
      "outputs": [
        {
          "name": "stdout",
          "output_type": "stream",
          "text": [
            "Epoch 1/50\n",
            "79/79 [==============================] - 152s 2s/step - loss: 3.8942 - accuracy: 0.0383 - val_loss: 3.7471 - val_accuracy: 0.0557\n",
            "Epoch 2/50\n",
            "79/79 [==============================] - 138s 2s/step - loss: 3.6905 - accuracy: 0.0718 - val_loss: 3.5591 - val_accuracy: 0.0686\n",
            "Epoch 3/50\n",
            "79/79 [==============================] - 137s 2s/step - loss: 3.4090 - accuracy: 0.1006 - val_loss: 3.2407 - val_accuracy: 0.1039\n",
            "Epoch 4/50\n",
            "79/79 [==============================] - 136s 2s/step - loss: 3.2049 - accuracy: 0.1274 - val_loss: 3.1015 - val_accuracy: 0.1596\n",
            "Epoch 5/50\n",
            "79/79 [==============================] - 136s 2s/step - loss: 3.0757 - accuracy: 0.1627 - val_loss: 3.0360 - val_accuracy: 0.1855\n",
            "Epoch 6/50\n",
            "79/79 [==============================] - 135s 2s/step - loss: 2.8552 - accuracy: 0.2133 - val_loss: 3.1083 - val_accuracy: 0.1596\n",
            "Epoch 7/50\n",
            "79/79 [==============================] - 136s 2s/step - loss: 2.6405 - accuracy: 0.2550 - val_loss: 2.6398 - val_accuracy: 0.2839\n",
            "Epoch 8/50\n",
            "79/79 [==============================] - 135s 2s/step - loss: 2.4030 - accuracy: 0.3118 - val_loss: 2.4360 - val_accuracy: 0.3098\n",
            "Epoch 9/50\n",
            "79/79 [==============================] - 135s 2s/step - loss: 2.2888 - accuracy: 0.3338 - val_loss: 2.4714 - val_accuracy: 0.3488\n",
            "Epoch 10/50\n",
            "79/79 [==============================] - 136s 2s/step - loss: 2.1387 - accuracy: 0.3755 - val_loss: 2.3358 - val_accuracy: 0.3358\n",
            "Epoch 11/50\n",
            "79/79 [==============================] - 135s 2s/step - loss: 2.0156 - accuracy: 0.4023 - val_loss: 2.4186 - val_accuracy: 0.3506\n",
            "Epoch 12/50\n",
            "79/79 [==============================] - 137s 2s/step - loss: 1.8681 - accuracy: 0.4443 - val_loss: 2.1836 - val_accuracy: 0.3896\n",
            "Epoch 13/50\n",
            "79/79 [==============================] - 136s 2s/step - loss: 1.7812 - accuracy: 0.4719 - val_loss: 2.3315 - val_accuracy: 0.4174\n",
            "Epoch 14/50\n",
            "79/79 [==============================] - 137s 2s/step - loss: 1.7197 - accuracy: 0.4805 - val_loss: 2.0276 - val_accuracy: 0.4434\n",
            "Epoch 15/50\n",
            "79/79 [==============================] - 135s 2s/step - loss: 1.6030 - accuracy: 0.5253 - val_loss: 2.2364 - val_accuracy: 0.4304\n",
            "Epoch 16/50\n",
            "79/79 [==============================] - 136s 2s/step - loss: 1.5600 - accuracy: 0.5307 - val_loss: 1.9341 - val_accuracy: 0.4861\n",
            "Epoch 17/50\n",
            "79/79 [==============================] - 136s 2s/step - loss: 1.4689 - accuracy: 0.5642 - val_loss: 1.9246 - val_accuracy: 0.4972\n",
            "Epoch 18/50\n",
            "79/79 [==============================] - 135s 2s/step - loss: 1.3506 - accuracy: 0.5954 - val_loss: 1.9464 - val_accuracy: 0.4675\n",
            "Epoch 19/50\n",
            "79/79 [==============================] - 136s 2s/step - loss: 1.3131 - accuracy: 0.6025 - val_loss: 1.9951 - val_accuracy: 0.4601\n",
            "Epoch 20/50\n",
            "79/79 [==============================] - 135s 2s/step - loss: 1.2849 - accuracy: 0.6065 - val_loss: 1.9468 - val_accuracy: 0.4657\n",
            "Epoch 21/50\n",
            "79/79 [==============================] - 136s 2s/step - loss: 1.2152 - accuracy: 0.6269 - val_loss: 2.0085 - val_accuracy: 0.4917\n",
            "Epoch 22/50\n",
            "79/79 [==============================] - 135s 2s/step - loss: 1.1028 - accuracy: 0.6579 - val_loss: 1.9387 - val_accuracy: 0.5232\n",
            "Epoch 23/50\n",
            "79/79 [==============================] - 137s 2s/step - loss: 1.0806 - accuracy: 0.6585 - val_loss: 1.8381 - val_accuracy: 0.5121\n",
            "Epoch 24/50\n",
            "79/79 [==============================] - 137s 2s/step - loss: 1.0353 - accuracy: 0.6771 - val_loss: 1.8105 - val_accuracy: 0.5584\n",
            "Epoch 25/50\n",
            "79/79 [==============================] - 137s 2s/step - loss: 0.9617 - accuracy: 0.7021 - val_loss: 1.8983 - val_accuracy: 0.5473\n",
            "Epoch 26/50\n",
            "79/79 [==============================] - 138s 2s/step - loss: 1.0081 - accuracy: 0.6839 - val_loss: 1.9760 - val_accuracy: 0.5102\n",
            "Epoch 27/50\n",
            "79/79 [==============================] - 136s 2s/step - loss: 0.9149 - accuracy: 0.7109 - val_loss: 1.8097 - val_accuracy: 0.5510\n",
            "Epoch 28/50\n",
            "79/79 [==============================] - 137s 2s/step - loss: 0.9064 - accuracy: 0.7158 - val_loss: 1.8139 - val_accuracy: 0.5269\n",
            "Epoch 29/50\n",
            "79/79 [==============================] - 137s 2s/step - loss: 0.9209 - accuracy: 0.7168 - val_loss: 1.8477 - val_accuracy: 0.5288\n",
            "Epoch 30/50\n",
            "79/79 [==============================] - 136s 2s/step - loss: 0.8784 - accuracy: 0.7293 - val_loss: 1.6833 - val_accuracy: 0.5510\n",
            "Epoch 31/50\n",
            "79/79 [==============================] - 135s 2s/step - loss: 0.8181 - accuracy: 0.7388 - val_loss: 1.6304 - val_accuracy: 0.5826\n",
            "Epoch 32/50\n",
            "79/79 [==============================] - 136s 2s/step - loss: 0.7805 - accuracy: 0.7537 - val_loss: 1.8486 - val_accuracy: 0.5417\n",
            "Epoch 33/50\n",
            "79/79 [==============================] - 136s 2s/step - loss: 0.8153 - accuracy: 0.7400 - val_loss: 1.7045 - val_accuracy: 0.5640\n",
            "Epoch 34/50\n",
            "79/79 [==============================] - 135s 2s/step - loss: 0.7504 - accuracy: 0.7583 - val_loss: 1.8776 - val_accuracy: 0.5826\n",
            "Epoch 35/50\n",
            "79/79 [==============================] - 136s 2s/step - loss: 0.7117 - accuracy: 0.7710 - val_loss: 1.8589 - val_accuracy: 0.5473\n",
            "Epoch 36/50\n",
            "79/79 [==============================] - 136s 2s/step - loss: 0.6909 - accuracy: 0.7740 - val_loss: 1.7245 - val_accuracy: 0.5937\n",
            "Epoch 37/50\n",
            "79/79 [==============================] - 137s 2s/step - loss: 0.6436 - accuracy: 0.7936 - val_loss: 1.6900 - val_accuracy: 0.6122\n",
            "Epoch 38/50\n",
            "79/79 [==============================] - 135s 2s/step - loss: 0.6395 - accuracy: 0.7934 - val_loss: 1.6259 - val_accuracy: 0.5937\n",
            "Epoch 39/50\n",
            "79/79 [==============================] - 136s 2s/step - loss: 0.6141 - accuracy: 0.7988 - val_loss: 1.8460 - val_accuracy: 0.5863\n",
            "Epoch 40/50\n",
            "79/79 [==============================] - 136s 2s/step - loss: 0.5761 - accuracy: 0.8113 - val_loss: 1.8620 - val_accuracy: 0.5770\n",
            "Epoch 41/50\n",
            "79/79 [==============================] - 136s 2s/step - loss: 0.5935 - accuracy: 0.8079 - val_loss: 1.8284 - val_accuracy: 0.5714\n",
            "Epoch 42/50\n",
            "79/79 [==============================] - 136s 2s/step - loss: 0.5775 - accuracy: 0.8188 - val_loss: 1.9126 - val_accuracy: 0.5881\n",
            "Epoch 43/50\n",
            "79/79 [==============================] - 135s 2s/step - loss: 0.5446 - accuracy: 0.8182 - val_loss: 1.8801 - val_accuracy: 0.5603\n",
            "Epoch 44/50\n",
            "79/79 [==============================] - 137s 2s/step - loss: 0.5416 - accuracy: 0.8254 - val_loss: 1.8377 - val_accuracy: 0.6104\n",
            "Epoch 45/50\n",
            "79/79 [==============================] - 136s 2s/step - loss: 0.5037 - accuracy: 0.8291 - val_loss: 1.7073 - val_accuracy: 0.6085\n",
            "Epoch 46/50\n",
            "79/79 [==============================] - 136s 2s/step - loss: 0.5319 - accuracy: 0.8240 - val_loss: 1.6675 - val_accuracy: 0.6271\n",
            "Epoch 47/50\n",
            "79/79 [==============================] - 134s 2s/step - loss: 0.5043 - accuracy: 0.8361 - val_loss: 1.7800 - val_accuracy: 0.5918\n",
            "Epoch 48/50\n",
            "79/79 [==============================] - 134s 2s/step - loss: 0.4830 - accuracy: 0.8446 - val_loss: 1.7298 - val_accuracy: 0.6215\n",
            "Epoch 49/50\n",
            "79/79 [==============================] - 134s 2s/step - loss: 0.4771 - accuracy: 0.8422 - val_loss: 1.7934 - val_accuracy: 0.6122\n",
            "Epoch 50/50\n",
            "79/79 [==============================] - 134s 2s/step - loss: 0.4687 - accuracy: 0.8490 - val_loss: 1.7905 - val_accuracy: 0.6104\n"
          ]
        },
        {
          "data": {
            "text/plain": [
              "<keras.callbacks.History at 0x7f56f0041250>"
            ]
          },
          "execution_count": 15,
          "metadata": {},
          "output_type": "execute_result"
        }
      ],
      "source": [
        "#Training the model\n",
        "model.compile(optimizer=\"adam\", loss=\"categorical_crossentropy\", metrics=[\"accuracy\"])\n",
        "model.fit(x=train_generator, validation_data=valid_generator, epochs=50)"
      ]
    }
  ],
  "metadata": {
    "accelerator": "GPU",
    "colab": {
      "collapsed_sections": [],
      "provenance": []
    },
    "gpuClass": "standard",
    "kernelspec": {
      "display_name": "Python 3",
      "name": "python3"
    },
    "language_info": {
      "name": "python"
    }
  },
  "nbformat": 4,
  "nbformat_minor": 0
}